{
 "cells": [
  {
   "cell_type": "markdown",
   "metadata": {},
   "source": [
    "# Is it possible to predict lightning strikes using machine learning?\n",
    "\n",
    "The data in this set was collected using NOAA's Geostationary Lightning Mapper, along with GOES-R Data. \n",
    "A reference to collecting GLM Data can be found here: https://docs.opendata.aws/noaa-goes16/cics-readme.html\n",
    "\n",
    "Lightning is a rare event on a geospatial scale. Although millions of lightning strikes occur each day, the large scale of the CONUS alone limits the number of strikes you can confidently place on the map. This makes our dataset relatively imbalanced. \n",
    "\n",
    "In the following notebook we discuss methods to implement machine learning algorithms on an imbalanced dataset. \n",
    "\n"
   ]
  },
  {
   "cell_type": "code",
   "execution_count": 1,
   "metadata": {},
   "outputs": [
    {
     "data": {
      "text/html": [
       "<div>\n",
       "<style scoped>\n",
       "    .dataframe tbody tr th:only-of-type {\n",
       "        vertical-align: middle;\n",
       "    }\n",
       "\n",
       "    .dataframe tbody tr th {\n",
       "        vertical-align: top;\n",
       "    }\n",
       "\n",
       "    .dataframe thead th {\n",
       "        text-align: right;\n",
       "    }\n",
       "</style>\n",
       "<table border=\"1\" class=\"dataframe\">\n",
       "  <thead>\n",
       "    <tr style=\"text-align: right;\">\n",
       "      <th></th>\n",
       "      <th>Unnamed: 0</th>\n",
       "      <th>Coordinates</th>\n",
       "      <th>nearest_time</th>\n",
       "      <th>lightning</th>\n",
       "      <th>CMI_C01</th>\n",
       "      <th>CMI_C02</th>\n",
       "      <th>CMI_C03</th>\n",
       "      <th>CMI_C04</th>\n",
       "      <th>CMI_C05</th>\n",
       "      <th>CMI_C06</th>\n",
       "      <th>...</th>\n",
       "      <th>CMI_C15</th>\n",
       "      <th>CMI_C16</th>\n",
       "      <th>ACM</th>\n",
       "      <th>BCM</th>\n",
       "      <th>Cloud_Probabilities</th>\n",
       "      <th>lat</th>\n",
       "      <th>lon</th>\n",
       "      <th>time</th>\n",
       "      <th>time_int</th>\n",
       "      <th>Lightning</th>\n",
       "    </tr>\n",
       "  </thead>\n",
       "  <tbody>\n",
       "    <tr>\n",
       "      <th>0</th>\n",
       "      <td>0</td>\n",
       "      <td>(48.993860516070626, -83.7736658374815)</td>\n",
       "      <td>0</td>\n",
       "      <td>0.0</td>\n",
       "      <td>0.236587</td>\n",
       "      <td>0.174186</td>\n",
       "      <td>0.278670</td>\n",
       "      <td>0.050417</td>\n",
       "      <td>0.125972</td>\n",
       "      <td>0.119603</td>\n",
       "      <td>...</td>\n",
       "      <td>255.69264</td>\n",
       "      <td>246.76305</td>\n",
       "      <td>3.0</td>\n",
       "      <td>1.0</td>\n",
       "      <td>0.999409</td>\n",
       "      <td>48.993861</td>\n",
       "      <td>-83.773666</td>\n",
       "      <td>2022-07-12 21:00:31.526922880</td>\n",
       "      <td>1657659631526922880</td>\n",
       "      <td>0</td>\n",
       "    </tr>\n",
       "    <tr>\n",
       "      <th>1</th>\n",
       "      <td>1</td>\n",
       "      <td>(48.99119011711506, -83.65414571275491)</td>\n",
       "      <td>0</td>\n",
       "      <td>0.0</td>\n",
       "      <td>0.278194</td>\n",
       "      <td>0.216924</td>\n",
       "      <td>0.316170</td>\n",
       "      <td>0.071548</td>\n",
       "      <td>0.147758</td>\n",
       "      <td>0.148095</td>\n",
       "      <td>...</td>\n",
       "      <td>250.79752</td>\n",
       "      <td>243.57520</td>\n",
       "      <td>3.0</td>\n",
       "      <td>1.0</td>\n",
       "      <td>0.999407</td>\n",
       "      <td>48.991190</td>\n",
       "      <td>-83.654146</td>\n",
       "      <td>2022-07-12 21:00:31.526922880</td>\n",
       "      <td>1657659631526922880</td>\n",
       "      <td>0</td>\n",
       "    </tr>\n",
       "    <tr>\n",
       "      <th>2</th>\n",
       "      <td>2</td>\n",
       "      <td>(48.98855756013775, -83.5346982880049)</td>\n",
       "      <td>0</td>\n",
       "      <td>0.0</td>\n",
       "      <td>0.274206</td>\n",
       "      <td>0.214127</td>\n",
       "      <td>0.311289</td>\n",
       "      <td>0.075555</td>\n",
       "      <td>0.150476</td>\n",
       "      <td>0.147222</td>\n",
       "      <td>...</td>\n",
       "      <td>251.06924</td>\n",
       "      <td>243.58554</td>\n",
       "      <td>3.0</td>\n",
       "      <td>1.0</td>\n",
       "      <td>0.999408</td>\n",
       "      <td>48.988558</td>\n",
       "      <td>-83.534698</td>\n",
       "      <td>2022-07-12 21:00:31.526922880</td>\n",
       "      <td>1657659631526922880</td>\n",
       "      <td>0</td>\n",
       "    </tr>\n",
       "    <tr>\n",
       "      <th>3</th>\n",
       "      <td>3</td>\n",
       "      <td>(48.985962770730005, -83.41532245956029)</td>\n",
       "      <td>0</td>\n",
       "      <td>0.0</td>\n",
       "      <td>0.200595</td>\n",
       "      <td>0.138790</td>\n",
       "      <td>0.219166</td>\n",
       "      <td>0.046409</td>\n",
       "      <td>0.107877</td>\n",
       "      <td>0.096905</td>\n",
       "      <td>...</td>\n",
       "      <td>261.23926</td>\n",
       "      <td>250.17465</td>\n",
       "      <td>3.0</td>\n",
       "      <td>1.0</td>\n",
       "      <td>0.999421</td>\n",
       "      <td>48.985963</td>\n",
       "      <td>-83.415322</td>\n",
       "      <td>2022-07-12 21:00:31.526922880</td>\n",
       "      <td>1657659631526922880</td>\n",
       "      <td>0</td>\n",
       "    </tr>\n",
       "    <tr>\n",
       "      <th>4</th>\n",
       "      <td>4</td>\n",
       "      <td>(48.983405675701626, -83.29601712874923)</td>\n",
       "      <td>0</td>\n",
       "      <td>0.0</td>\n",
       "      <td>0.187619</td>\n",
       "      <td>0.125615</td>\n",
       "      <td>0.238928</td>\n",
       "      <td>0.030317</td>\n",
       "      <td>0.112639</td>\n",
       "      <td>0.089048</td>\n",
       "      <td>...</td>\n",
       "      <td>267.89890</td>\n",
       "      <td>254.82904</td>\n",
       "      <td>3.0</td>\n",
       "      <td>1.0</td>\n",
       "      <td>0.999548</td>\n",
       "      <td>48.983406</td>\n",
       "      <td>-83.296017</td>\n",
       "      <td>2022-07-12 21:00:31.526922880</td>\n",
       "      <td>1657659631526922880</td>\n",
       "      <td>0</td>\n",
       "    </tr>\n",
       "  </tbody>\n",
       "</table>\n",
       "<p>5 rows × 28 columns</p>\n",
       "</div>"
      ],
      "text/plain": [
       "   Unnamed: 0                               Coordinates nearest_time  \\\n",
       "0           0   (48.993860516070626, -83.7736658374815)            0   \n",
       "1           1   (48.99119011711506, -83.65414571275491)            0   \n",
       "2           2    (48.98855756013775, -83.5346982880049)            0   \n",
       "3           3  (48.985962770730005, -83.41532245956029)            0   \n",
       "4           4  (48.983405675701626, -83.29601712874923)            0   \n",
       "\n",
       "   lightning   CMI_C01   CMI_C02   CMI_C03   CMI_C04   CMI_C05   CMI_C06  ...  \\\n",
       "0        0.0  0.236587  0.174186  0.278670  0.050417  0.125972  0.119603  ...   \n",
       "1        0.0  0.278194  0.216924  0.316170  0.071548  0.147758  0.148095  ...   \n",
       "2        0.0  0.274206  0.214127  0.311289  0.075555  0.150476  0.147222  ...   \n",
       "3        0.0  0.200595  0.138790  0.219166  0.046409  0.107877  0.096905  ...   \n",
       "4        0.0  0.187619  0.125615  0.238928  0.030317  0.112639  0.089048  ...   \n",
       "\n",
       "     CMI_C15    CMI_C16  ACM  BCM  Cloud_Probabilities        lat        lon  \\\n",
       "0  255.69264  246.76305  3.0  1.0             0.999409  48.993861 -83.773666   \n",
       "1  250.79752  243.57520  3.0  1.0             0.999407  48.991190 -83.654146   \n",
       "2  251.06924  243.58554  3.0  1.0             0.999408  48.988558 -83.534698   \n",
       "3  261.23926  250.17465  3.0  1.0             0.999421  48.985963 -83.415322   \n",
       "4  267.89890  254.82904  3.0  1.0             0.999548  48.983406 -83.296017   \n",
       "\n",
       "                            time             time_int  Lightning  \n",
       "0  2022-07-12 21:00:31.526922880  1657659631526922880          0  \n",
       "1  2022-07-12 21:00:31.526922880  1657659631526922880          0  \n",
       "2  2022-07-12 21:00:31.526922880  1657659631526922880          0  \n",
       "3  2022-07-12 21:00:31.526922880  1657659631526922880          0  \n",
       "4  2022-07-12 21:00:31.526922880  1657659631526922880          0  \n",
       "\n",
       "[5 rows x 28 columns]"
      ]
     },
     "execution_count": 1,
     "metadata": {},
     "output_type": "execute_result"
    }
   ],
   "source": [
    "#pandas and numpy\n",
    "\n",
    "import pandas as pd\n",
    "import numpy as np\n",
    "\n",
    "# Modelling\n",
    "import xgboost as xgb\n",
    "from sklearn.model_selection import train_test_split\n",
    "from sklearn.metrics import accuracy_score, classification_report, confusion_matrix, precision_score, recall_score, ConfusionMatrixDisplay\n",
    "from sklearn.linear_model import LogisticRegression\n",
    "from sklearn.ensemble import RandomForestClassifier\n",
    "from sklearn.model_selection import cross_val_score\n",
    "from sklearn.svm import SVC\n",
    "\n",
    "#Visualization\n",
    "import matplotlib.pyplot as plt \n",
    "import seaborn as sns\n",
    "\n",
    "#Load the csv into python\n",
    "df = pd.read_csv(\"/Users/robbiefeldstein/Documents/Programming/Research/Datasets/2022-07-12.csv\")\n",
    "df.head()"
   ]
  },
  {
   "cell_type": "markdown",
   "metadata": {},
   "source": [
    "## Exploratory Data Analysis\n",
    "\n",
    "Let's begin by investigating the imbalance of the dataset! We make a simple pie chart to help visualize the problem."
   ]
  },
  {
   "cell_type": "code",
   "execution_count": 15,
   "metadata": {},
   "outputs": [
    {
     "data": {
      "image/png": "[encoded data removed]",
      "text/plain": [
       "<Figure size 640x480 with 1 Axes>"
      ]
     },
     "metadata": {},
     "output_type": "display_data"
    }
   ],
   "source": [
    "#Percentage of Strikes\n",
    "strikes = 100*len(df[df[\"Lightning\"]==1])/len(df)\n",
    "#Percentage of non-strikes\n",
    "non_strikes = 100*len(df[df[\"Lightning\"]==0])/len(df)\n",
    "\n",
    "#Label List\n",
    "labels = ['No Lighting', 'Lightning']\n",
    "sizes = [non_strikes,strikes]  # Percentages\n",
    "\n",
    "# Explode the second slice (Lightning)\n",
    "explode = (0, 0.1)\n",
    "\n",
    "# Create the pie chart\n",
    "plt.pie(sizes, labels=labels, explode=explode, autopct='%1.1f%%', startangle=140)\n",
    "\n",
    "plt.title(\"Relative Lightning Composition of Dataset\")\n",
    "# Set the aspect ratio to be equal, so the pie is a circle.\n",
    "plt.axis('equal')\n",
    "\n",
    "# Display the pie chart\n",
    "plt.show()\n"
   ]
  },
  {
   "cell_type": "markdown",
   "metadata": {},
   "source": [
    "### Correlations and Collinearity\n",
    "\n",
    "Now that we understand the class imbalance, we should make a simple correlation heatmap to try to find collinearity in our predictors. "
   ]
  },
  {
   "cell_type": "code",
   "execution_count": 16,
   "metadata": {},
   "outputs": [
    {
     "data": {
      "image/png": "[encoded data removed]",
      "text/plain": [
       "<Figure size 640x480 with 2 Axes>"
      ]
     },
     "metadata": {},
     "output_type": "display_data"
    }
   ],
   "source": [
    "numeric = df[[\"CMI_C01\",\"CMI_C02\",\"CMI_C03\",\"CMI_C04\",\"CMI_C05\",\"CMI_C06\",\"CMI_C07\",\"CMI_C08\",\"CMI_C09\",\"CMI_C10\",\"CMI_C11\",\"CMI_C12\",\"CMI_C13\",\"CMI_C14\",\"CMI_C15\", \"CMI_C16\" ,\"ACM\",\"BCM\",\"Cloud_Probabilities\",\"lightning\", \"Lightning\"]]\n",
    "#numeric = df[[\"CMI_C01\",\"CMI_C02\",\"CMI_C03\",\"CMI_C04\",\"CMI_C05\",\"CMI_C06\",\"CMI_C07\",\"CMI_C08\",\"CMI_C09\",\"CMI_C10\",\"CMI_C11\",\"CMI_C12\",\"CMI_C13\",\"CMI_C14\",\"CMI_C15\", \"CMI_C16\" ,\"ACM\",\"BCM\",\"Cloud_Probabilities\",\"Bubbling\", \"Cloud_Probability Change\", \"Interaction Effect\",\"lightning\", \"Lightning\"]]\n",
    "\n",
    "sns.heatmap(numeric.corr())\n",
    "plt.title(\"Correlation Heatmap\")\n",
    "plt.show()"
   ]
  },
  {
   "cell_type": "markdown",
   "metadata": {},
   "source": [
    "### Boxplot\n",
    "\n",
    "We see some major correlations in our variables. We also notice that none of the predictors seem to be highly correlated with Lightning. This collinearity in predictors makes sense; the weather data taken by the satellite often measures related variables. "
   ]
  },
  {
   "cell_type": "code",
   "execution_count": 17,
   "metadata": {},
   "outputs": [
    {
     "data": {
      "image/png": "[encoded data removed]",
      "text/plain": [
       "<Figure size 2000x600 with 1 Axes>"
      ]
     },
     "metadata": {},
     "output_type": "display_data"
    }
   ],
   "source": [
    "# numeric_nolightning = numeric[numeric[\"Lightning\"]==0]\n",
    "fig, ax = plt.subplots(figsize=(20, 6))\n",
    "# numeric_nolightning.boxplot()\n",
    "numeric_lightning = numeric[numeric[\"Lightning\"]==1]\n",
    "numeric_lightning.boxplot()\n",
    "plt.title(\"Boxplot of Variables\")\n",
    "plt.show()"
   ]
  },
  {
   "cell_type": "markdown",
   "metadata": {},
   "source": [
    "It looks like there are significantly more outliers in the lightning set. In particular, it looks like higher values of CMI_07-CMI_16 might be good indicators of a lightning strike. Given their extremely high correlations, we probably only need one or two of them to include in the model; otherwise we are just adding collinearity.   "
   ]
  },
  {
   "cell_type": "markdown",
   "metadata": {},
   "source": [
    "## Train Test Split & Data Preprocessing"
   ]
  },
  {
   "cell_type": "code",
   "execution_count": 18,
   "metadata": {},
   "outputs": [],
   "source": [
    "#Pick three \"important predictors\"; this is relatively up to interpretation. Cloud_Probabilities was chosen, as lightning needs clouds! (mostly)\n",
    "\n",
    "#predictors = [\"CMI_C01\",\"CMI_C02\",\"CMI_C03\",\"CMI_C04\",\"CMI_C05\",\"CMI_C06\",\"CMI_C07\",\"CMI_C08\",\"CMI_C09\",\"CMI_C10\",\"CMI_C11\",\"CMI_C12\",\"CMI_C13\",\"CMI_C14\",\"CMI_C15\", \"CMI_C16\" ,\"ACM\",\"BCM\",\"Cloud_Probabilities\"]\n",
    "predictors = [\"CMI_C01\",\"CMI_C07\",\"Cloud_Probabilities\"]\n",
    "#X is our prediction matrix, y i a series of response data. \n",
    "X = df[predictors].copy()\n",
    "y = df[[\"Lightning\"]].copy()\n",
    "\n",
    "#Normalize X before training classification models\n",
    "X = (X-X.mean())/X.std()\n",
    "\n",
    "#30% Training, 70% testing\n",
    "X_train, X_test, y_train, y_test = train_test_split(X, y, test_size=0.3, random_state=2)\n"
   ]
  },
  {
   "cell_type": "markdown",
   "metadata": {},
   "source": [
    "## Logistic Regression\n",
    "\n",
    "We start with a binary logistic regression classifier. While logistic regression does not typically perform the best in place of more flexible algorithms, it is easily interpretable!\n",
    "\n",
    "Note: We specify class_weight = \"balanced\" to ensure that the logistic regression does not classify 0 lighting. A naive model would just be to classify no lightning anywhere, and it would perform quite well! "
   ]
  },
  {
   "cell_type": "code",
   "execution_count": 19,
   "metadata": {},
   "outputs": [
    {
     "name": "stdout",
     "output_type": "stream",
     "text": [
      "Confusion Matrix:\n",
      "[[275864      0]\n",
      " [  5386      0]]\n",
      "Classification Report:\n",
      "              precision    recall  f1-score   support\n",
      "\n",
      "           0       0.98      1.00      0.99    275864\n",
      "           1       0.00      0.00      0.00      5386\n",
      "\n",
      "    accuracy                           0.98    281250\n",
      "   macro avg       0.49      0.50      0.50    281250\n",
      "weighted avg       0.96      0.98      0.97    281250\n",
      "\n"
     ]
    },
    {
     "name": "stderr",
     "output_type": "stream",
     "text": [
      "/Users/robbiefeldstein/anaconda3/envs/GOES/lib/python3.11/site-packages/sklearn/metrics/_classification.py:1344: UndefinedMetricWarning: Precision and F-score are ill-defined and being set to 0.0 in labels with no predicted samples. Use `zero_division` parameter to control this behavior.\n",
      "  _warn_prf(average, modifier, msg_start, len(result))\n",
      "/Users/robbiefeldstein/anaconda3/envs/GOES/lib/python3.11/site-packages/sklearn/metrics/_classification.py:1344: UndefinedMetricWarning: Precision and F-score are ill-defined and being set to 0.0 in labels with no predicted samples. Use `zero_division` parameter to control this behavior.\n",
      "  _warn_prf(average, modifier, msg_start, len(result))\n",
      "/Users/robbiefeldstein/anaconda3/envs/GOES/lib/python3.11/site-packages/sklearn/metrics/_classification.py:1344: UndefinedMetricWarning: Precision and F-score are ill-defined and being set to 0.0 in labels with no predicted samples. Use `zero_division` parameter to control this behavior.\n",
      "  _warn_prf(average, modifier, msg_start, len(result))\n"
     ]
    }
   ],
   "source": [
    "#Logistic Regression\n",
    "\n",
    "#BALANCED Logistic Regression!\n",
    "model = LogisticRegression(max_iter = 10000,random_state=2)\n",
    "\n",
    "model.fit(X_train, y_train[\"Lightning\"])\n",
    "y_pred = model.predict(X_test)\n",
    "\n",
    "confusion = confusion_matrix(y_test, y_pred)\n",
    "print('Confusion Matrix:')\n",
    "print(confusion)\n",
    "\n",
    "classification_rep = classification_report(y_test, y_pred)\n",
    "print('Classification Report:')\n",
    "print(classification_rep)"
   ]
  },
  {
   "cell_type": "markdown",
   "metadata": {},
   "source": [
    "### Interpretation of Logistic Regression Classifier\n",
    "\n",
    "Looking at the above confusion matrix and classification report, we see a poorly performing model. In particular, look at its Type-1 Error Rate. The model predicts 49746 additional lightning strikes than actually occurred! Despite all of these false positives, it did not manage to correctly classify all the lightning, and missed 12 strikes! Still a 93% recall rate is desirable, although the f1-score and precision are abysmally low. \n",
    "\n",
    "We could spend time to tune the above logistic regression model, but we are better suited using more advanced machine learning methods than logistic regression."
   ]
  },
  {
   "cell_type": "markdown",
   "metadata": {},
   "source": [
    "## Random Forests\n",
    "\n",
    "Rather than using logistic regression and sigmoid functions to classify our data, let's try utilizing decision trees. The RandomForest algorithm is an ensemble of decision trees. In particular, it bootstraps our dataset into several datasets and forms a decision tree for each bootstrap. These decision trees are aggregated to form a \"forest\" where one final decision tree is used to classify the model."
   ]
  },
  {
   "cell_type": "code",
   "execution_count": 20,
   "metadata": {},
   "outputs": [
    {
     "name": "stdout",
     "output_type": "stream",
     "text": [
      "Confusion Matrix:\n",
      "[[275170    694]\n",
      " [  4661    725]]\n",
      "Classification Report:\n",
      "              precision    recall  f1-score   support\n",
      "\n",
      "           0       0.98      1.00      0.99    275864\n",
      "           1       0.51      0.13      0.21      5386\n",
      "\n",
      "    accuracy                           0.98    281250\n",
      "   macro avg       0.75      0.57      0.60    281250\n",
      "weighted avg       0.97      0.98      0.98    281250\n",
      "\n",
      "Cross-validation scores: [0.42239186 0.4516129  0.43734644 0.45365854 0.48076923]\n",
      "Mean cross-validation score: 0.4491557930866404\n"
     ]
    }
   ],
   "source": [
    "# Create a Random Forest model\n",
    "#Again, specify balanced class weights!\n",
    "model = RandomForestClassifier(n_estimators=10, random_state=2)  # For regression, use RandomForestRegressor\n",
    "\n",
    "# Fit the model on the training data\n",
    "model.fit(X_train, y_train[\"Lightning\"])\n",
    "\n",
    "# Make predictions on the test data\n",
    "y_pred = model.predict(X_test)\n",
    "\n",
    "confusion = confusion_matrix(y_test, y_pred)\n",
    "print('Confusion Matrix:')\n",
    "print(confusion)\n",
    "\n",
    "classification_rep = classification_report(y_test, y_pred)\n",
    "print('Classification Report:')\n",
    "print(classification_rep)\n",
    "\n",
    "scores = cross_val_score(model, X_test, y_pred, cv=5, scoring='f1')\n",
    "print('Cross-validation scores:', scores)\n",
    "print('Mean cross-validation score:', scores.mean())"
   ]
  },
  {
   "cell_type": "markdown",
   "metadata": {},
   "source": [
    "### Random Forest Interpretation\n",
    "\n",
    "This is a significantly improved model. While the recall rate has dropped dramatically to just 25%, the type one error rate has dropped to just 35 false positives. The precision and f1-scores have jumped significantly. Again, the random forest model could have its hyperparameters tuned, but we will move on to more advanced algorithms!"
   ]
  },
  {
   "cell_type": "markdown",
   "metadata": {},
   "source": [
    "## XGboost Regressor\n",
    "\n",
    "We now move on to using XGBoost (Extreme Gradient Boosting). XGBoost is also based on using decision trees. Similar to the random forest technique seen above, it is an ensemble algorithm. XGBoost sequentially adds decision trees to the forest, while seeking to minimize the mean squared training error. After fitting trees, it backpedals to reduce model complexity, prevent overfitting, and lower the variance of the model. It is an incredibly powerful, and fast training algorithm. "
   ]
  },
  {
   "cell_type": "code",
   "execution_count": 21,
   "metadata": {},
   "outputs": [
    {
     "data": {
      "text/html": [
       "<style>#sk-container-id-2 {color: black;background-color: white;}#sk-container-id-2 pre{padding: 0;}#sk-container-id-2 div.sk-toggleable {background-color: white;}#sk-container-id-2 label.sk-toggleable__label {cursor: pointer;display: block;width: 100%;margin-bottom: 0;padding: 0.3em;box-sizing: border-box;text-align: center;}#sk-container-id-2 label.sk-toggleable__label-arrow:before {content: \"▸\";float: left;margin-right: 0.25em;color: #696969;}#sk-container-id-2 label.sk-toggleable__label-arrow:hover:before {color: black;}#sk-container-id-2 div.sk-estimator:hover label.sk-toggleable__label-arrow:before {color: black;}#sk-container-id-2 div.sk-toggleable__content {max-height: 0;max-width: 0;overflow: hidden;text-align: left;background-color: #f0f8ff;}#sk-container-id-2 div.sk-toggleable__content pre {margin: 0.2em;color: black;border-radius: 0.25em;background-color: #f0f8ff;}#sk-container-id-2 input.sk-toggleable__control:checked~div.sk-toggleable__content {max-height: 200px;max-width: 100%;overflow: auto;}#sk-container-id-2 input.sk-toggleable__control:checked~label.sk-toggleable__label-arrow:before {content: \"▾\";}#sk-container-id-2 div.sk-estimator input.sk-toggleable__control:checked~label.sk-toggleable__label {background-color: #d4ebff;}#sk-container-id-2 div.sk-label input.sk-toggleable__control:checked~label.sk-toggleable__label {background-color: #d4ebff;}#sk-container-id-2 input.sk-hidden--visually {border: 0;clip: rect(1px 1px 1px 1px);clip: rect(1px, 1px, 1px, 1px);height: 1px;margin: -1px;overflow: hidden;padding: 0;position: absolute;width: 1px;}#sk-container-id-2 div.sk-estimator {font-family: monospace;background-color: #f0f8ff;border: 1px dotted black;border-radius: 0.25em;box-sizing: border-box;margin-bottom: 0.5em;}#sk-container-id-2 div.sk-estimator:hover {background-color: #d4ebff;}#sk-container-id-2 div.sk-parallel-item::after {content: \"\";width: 100%;border-bottom: 1px solid gray;flex-grow: 1;}#sk-container-id-2 div.sk-label:hover label.sk-toggleable__label {background-color: #d4ebff;}#sk-container-id-2 div.sk-serial::before {content: \"\";position: absolute;border-left: 1px solid gray;box-sizing: border-box;top: 0;bottom: 0;left: 50%;z-index: 0;}#sk-container-id-2 div.sk-serial {display: flex;flex-direction: column;align-items: center;background-color: white;padding-right: 0.2em;padding-left: 0.2em;position: relative;}#sk-container-id-2 div.sk-item {position: relative;z-index: 1;}#sk-container-id-2 div.sk-parallel {display: flex;align-items: stretch;justify-content: center;background-color: white;position: relative;}#sk-container-id-2 div.sk-item::before, #sk-container-id-2 div.sk-parallel-item::before {content: \"\";position: absolute;border-left: 1px solid gray;box-sizing: border-box;top: 0;bottom: 0;left: 50%;z-index: -1;}#sk-container-id-2 div.sk-parallel-item {display: flex;flex-direction: column;z-index: 1;position: relative;background-color: white;}#sk-container-id-2 div.sk-parallel-item:first-child::after {align-self: flex-end;width: 50%;}#sk-container-id-2 div.sk-parallel-item:last-child::after {align-self: flex-start;width: 50%;}#sk-container-id-2 div.sk-parallel-item:only-child::after {width: 0;}#sk-container-id-2 div.sk-dashed-wrapped {border: 1px dashed gray;margin: 0 0.4em 0.5em 0.4em;box-sizing: border-box;padding-bottom: 0.4em;background-color: white;}#sk-container-id-2 div.sk-label label {font-family: monospace;font-weight: bold;display: inline-block;line-height: 1.2em;}#sk-container-id-2 div.sk-label-container {text-align: center;}#sk-container-id-2 div.sk-container {/* jupyter's `normalize.less` sets `[hidden] { display: none; }` but bootstrap.min.css set `[hidden] { display: none !important; }` so we also need the `!important` here to be able to override the default hidden behavior on the sphinx rendered scikit-learn.org. See: https://github.com/scikit-learn/scikit-learn/issues/21755 */display: inline-block !important;position: relative;}#sk-container-id-2 div.sk-text-repr-fallback {display: none;}</style><div id=\"sk-container-id-2\" class=\"sk-top-container\"><div class=\"sk-text-repr-fallback\"><pre>XGBClassifier(base_score=None, booster=None, callbacks=None,\n",
       "              colsample_bylevel=None, colsample_bynode=None,\n",
       "              colsample_bytree=None, early_stopping_rounds=None,\n",
       "              enable_categorical=False, eval_metric=None, feature_types=None,\n",
       "              gamma=None, gpu_id=None, grow_policy=None, importance_type=None,\n",
       "              interaction_constraints=None, learning_rate=None, max_bin=None,\n",
       "              max_cat_threshold=None, max_cat_to_onehot=None,\n",
       "              max_delta_step=None, max_depth=None, max_leaves=None,\n",
       "              min_child_weight=None, missing=nan, monotone_constraints=None,\n",
       "              n_estimators=100, n_jobs=None, num_parallel_tree=None,\n",
       "              predictor=None, random_state=None, ...)</pre><b>In a Jupyter environment, please rerun this cell to show the HTML representation or trust the notebook. <br />On GitHub, the HTML representation is unable to render, please try loading this page with nbviewer.org.</b></div><div class=\"sk-container\" hidden><div class=\"sk-item\"><div class=\"sk-estimator sk-toggleable\"><input class=\"sk-toggleable__control sk-hidden--visually\" id=\"sk-estimator-id-2\" type=\"checkbox\" checked><label for=\"sk-estimator-id-2\" class=\"sk-toggleable__label sk-toggleable__label-arrow\">XGBClassifier</label><div class=\"sk-toggleable__content\"><pre>XGBClassifier(base_score=None, booster=None, callbacks=None,\n",
       "              colsample_bylevel=None, colsample_bynode=None,\n",
       "              colsample_bytree=None, early_stopping_rounds=None,\n",
       "              enable_categorical=False, eval_metric=None, feature_types=None,\n",
       "              gamma=None, gpu_id=None, grow_policy=None, importance_type=None,\n",
       "              interaction_constraints=None, learning_rate=None, max_bin=None,\n",
       "              max_cat_threshold=None, max_cat_to_onehot=None,\n",
       "              max_delta_step=None, max_depth=None, max_leaves=None,\n",
       "              min_child_weight=None, missing=nan, monotone_constraints=None,\n",
       "              n_estimators=100, n_jobs=None, num_parallel_tree=None,\n",
       "              predictor=None, random_state=None, ...)</pre></div></div></div></div></div>"
      ],
      "text/plain": [
       "XGBClassifier(base_score=None, booster=None, callbacks=None,\n",
       "              colsample_bylevel=None, colsample_bynode=None,\n",
       "              colsample_bytree=None, early_stopping_rounds=None,\n",
       "              enable_categorical=False, eval_metric=None, feature_types=None,\n",
       "              gamma=None, gpu_id=None, grow_policy=None, importance_type=None,\n",
       "              interaction_constraints=None, learning_rate=None, max_bin=None,\n",
       "              max_cat_threshold=None, max_cat_to_onehot=None,\n",
       "              max_delta_step=None, max_depth=None, max_leaves=None,\n",
       "              min_child_weight=None, missing=nan, monotone_constraints=None,\n",
       "              n_estimators=100, n_jobs=None, num_parallel_tree=None,\n",
       "              predictor=None, random_state=None, ...)"
      ]
     },
     "execution_count": 21,
     "metadata": {},
     "output_type": "execute_result"
    }
   ],
   "source": [
    "#Generate the ratio of lightning to non_lighting \n",
    "lightning_count = sum(y[\"Lightning\"])\n",
    "non_lightning = len(y) - lightning_count\n",
    "ratio = non_lightning/lightning_count\n",
    "\n",
    "model = xgb.XGBClassifier(scale_pos_weight=ratio)\n",
    "\n",
    "# Train the model\n",
    "model.fit(X_train, y_train)"
   ]
  },
  {
   "cell_type": "code",
   "execution_count": 22,
   "metadata": {},
   "outputs": [
    {
     "name": "stdout",
     "output_type": "stream",
     "text": [
      "Accuracy: 0.86\n",
      "Confusion Matrix:\n",
      "[[236141  39723]\n",
      " [   816   4570]]\n",
      "Classification Report:\n",
      "              precision    recall  f1-score   support\n",
      "\n",
      "           0       1.00      0.86      0.92    275864\n",
      "           1       0.10      0.85      0.18      5386\n",
      "\n",
      "    accuracy                           0.86    281250\n",
      "   macro avg       0.55      0.85      0.55    281250\n",
      "weighted avg       0.98      0.86      0.91    281250\n",
      "\n"
     ]
    }
   ],
   "source": [
    "y_pred = model.predict(X_test)\n",
    "accuracy = accuracy_score(y_test, y_pred)\n",
    "print(f'Accuracy: {accuracy:.2f}')\n",
    "\n",
    "confusion = confusion_matrix(y_test, y_pred)\n",
    "print('Confusion Matrix:')\n",
    "print(confusion)\n",
    "\n",
    "classification_rep = classification_report(y_test, y_pred)\n",
    "print('Classification Report:')\n",
    "print(classification_rep)"
   ]
  },
  {
   "cell_type": "markdown",
   "metadata": {},
   "source": [
    "### Interpretation of XGBoost Regressor\n",
    "\n",
    "These are the best results seen so far! The recall rate and precision scores are relatively high, and the F-score has jumped to almost 50%. The false positive rate is slightly high, with 144 false lightning strikes predicted. "
   ]
  },
  {
   "cell_type": "markdown",
   "metadata": {},
   "source": [
    "## Naive Bayes"
   ]
  },
  {
   "cell_type": "code",
   "execution_count": 23,
   "metadata": {},
   "outputs": [
    {
     "name": "stdout",
     "output_type": "stream",
     "text": [
      "Accuracy: 0.88\n",
      "Confusion Matrix:\n",
      "[[244853  31011]\n",
      " [  1689   3697]]\n",
      "Classification Report:\n",
      "              precision    recall  f1-score   support\n",
      "\n",
      "           0       0.99      0.89      0.94    275864\n",
      "           1       0.11      0.69      0.18      5386\n",
      "\n",
      "    accuracy                           0.88    281250\n",
      "   macro avg       0.55      0.79      0.56    281250\n",
      "weighted avg       0.98      0.88      0.92    281250\n",
      "\n"
     ]
    }
   ],
   "source": [
    "from sklearn.naive_bayes import GaussianNB\n",
    "\n",
    "\n",
    "nb_classifier = GaussianNB()  # Adjust class prior probabilities\n",
    "#nb_classifier.class_prior_ = [0.001, 0.999]\n",
    "nb_classifier.fit(X_train, y_train[\"Lightning\"])\n",
    "\n",
    "# Make predictions on the test data\n",
    "y_pred = nb_classifier.predict(X_test)\n",
    "\n",
    "accuracy = accuracy_score(y_test, y_pred)\n",
    "print(f'Accuracy: {accuracy:.2f}')\n",
    "\n",
    "confusion = confusion_matrix(y_test, y_pred)\n",
    "print('Confusion Matrix:')\n",
    "print(confusion)\n",
    "\n",
    "classification_rep = classification_report(y_test, y_pred)\n",
    "print('Classification Report:')\n",
    "print(classification_rep)"
   ]
  },
  {
   "cell_type": "markdown",
   "metadata": {},
   "source": [
    "## QDA"
   ]
  },
  {
   "cell_type": "code",
   "execution_count": 24,
   "metadata": {},
   "outputs": [
    {
     "name": "stdout",
     "output_type": "stream",
     "text": [
      "Accuracy: 0.53\n",
      "Confusion Matrix:\n",
      "[[143674 132190]\n",
      " [   253   5133]]\n",
      "Classification Report:\n",
      "              precision    recall  f1-score   support\n",
      "\n",
      "           0       1.00      0.52      0.68    275864\n",
      "           1       0.04      0.95      0.07      5386\n",
      "\n",
      "    accuracy                           0.53    281250\n",
      "   macro avg       0.52      0.74      0.38    281250\n",
      "weighted avg       0.98      0.53      0.67    281250\n",
      "\n"
     ]
    }
   ],
   "source": [
    "from sklearn.discriminant_analysis import QuadraticDiscriminantAnalysis\n",
    "\n",
    "qda = QuadraticDiscriminantAnalysis(priors=[0.1,0.9])\n",
    "qda.fit(X_train, y_train[\"Lightning\"])\n",
    "\n",
    "y_pred = qda.predict(X_test)\n",
    "\n",
    "accuracy = accuracy_score(y_test, y_pred)\n",
    "print(f'Accuracy: {accuracy:.2f}')\n",
    "\n",
    "confusion = confusion_matrix(y_test, y_pred)\n",
    "print('Confusion Matrix:')\n",
    "print(confusion)\n",
    "\n",
    "classification_rep = classification_report(y_test, y_pred)\n",
    "print('Classification Report:')\n",
    "print(classification_rep)\n"
   ]
  },
  {
   "cell_type": "markdown",
   "metadata": {},
   "source": [
    "## Light Gradient Boosting"
   ]
  },
  {
   "cell_type": "code",
   "execution_count": 25,
   "metadata": {},
   "outputs": [
    {
     "name": "stdout",
     "output_type": "stream",
     "text": [
      "[LightGBM] [Info] Number of positive: 12345, number of negative: 643905\n",
      "[LightGBM] [Info] Total Bins 765\n",
      "[LightGBM] [Info] Number of data points in the train set: 656250, number of used features: 3\n",
      "[LightGBM] [Info] [binary:BoostFromScore]: pavg=0.018811 -> initscore=-3.954300\n",
      "[LightGBM] [Info] Start training from score -3.954300\n",
      "Accuracy: 0.98\n",
      "Confusion Matrix:\n",
      "[[274358   1506]\n",
      " [  4127   1259]]\n",
      "Classification Report:\n",
      "              precision    recall  f1-score   support\n",
      "\n",
      "           0       0.99      0.99      0.99    275864\n",
      "           1       0.46      0.23      0.31      5386\n",
      "\n",
      "    accuracy                           0.98    281250\n",
      "   macro avg       0.72      0.61      0.65    281250\n",
      "weighted avg       0.98      0.98      0.98    281250\n",
      "\n"
     ]
    }
   ],
   "source": [
    "import lightgbm as lgb \n",
    "train_data = lgb.Dataset(X_train, label=y_train)\n",
    "test_data = lgb.Dataset(X_test, label=y_test, reference=train_data)\n",
    "\n",
    "params = {\n",
    "    'objective': 'binary',\n",
    "    'boosting_type': 'gbdt',\n",
    "    'metric': 'binary_logloss',\n",
    "    'num_leaves': 128,\n",
    "    'learning_rate': 0.01,\n",
    "    'feature_fraction': non_lightning/len(df),\n",
    "    'force_row_wise':True\n",
    "}\n",
    "\n",
    "\n",
    "num_round = 512 # Number of boosting rounds\n",
    "bst = lgb.train(params, train_data, num_round)\n",
    "\n",
    "y_pred = bst.predict(X_test, num_iteration=bst.best_iteration)\n",
    "\n",
    "threshold = 0.25\n",
    "\n",
    "\n",
    "\n",
    "accuracy = accuracy_score(y_test, (y_pred > threshold).astype(int))\n",
    "print(f'Accuracy: {accuracy:.2f}')\n",
    "\n",
    "confusion = confusion_matrix(y_test, (y_pred > threshold).astype(int))\n",
    "print('Confusion Matrix:')\n",
    "print(confusion)\n",
    "\n",
    "\n",
    "\n",
    "classification_rep = classification_report(y_test, (y_pred > threshold).astype(int))\n",
    "print('Classification Report:')\n",
    "print(classification_rep)"
   ]
  },
  {
   "cell_type": "markdown",
   "metadata": {},
   "source": [
    "## Convolutional Neural Networks"
   ]
  },
  {
   "cell_type": "code",
   "execution_count": null,
   "metadata": {},
   "outputs": [],
   "source": []
  },
  {
   "cell_type": "markdown",
   "metadata": {},
   "source": [
    "## Model Comparisons"
   ]
  },
  {
   "cell_type": "markdown",
   "metadata": {},
   "source": [
    "## *Best* Model"
   ]
  }
 ],
 "metadata": {
  "kernelspec": {
   "display_name": "GOES",
   "language": "python",
   "name": "goes"
  },
  "language_info": {
   "codemirror_mode": {
    "name": "ipython",
    "version": 3
   },
   "file_extension": ".py",
   "mimetype": "text/x-python",
   "name": "python",
   "nbconvert_exporter": "python",
   "pygments_lexer": "ipython3",
   "version": "3.11.4"
  },
  "orig_nbformat": 4
 },
 "nbformat": 4,
 "nbformat_minor": 2
}
