{
 "cells": [
  {
   "cell_type": "code",
   "execution_count": 1,
   "metadata": {},
   "outputs": [],
   "source": [
    "#https://www.tensorflow.org/tutorials/structured_data/imbalanced_data\n",
    "\n",
    "import pandas as pd\n",
    "import numpy as np\n",
    "\n",
    "import tensorflow as tf \n",
    "from tensorflow import keras\n",
    "from keras.layers import Flatten\n",
    "\n",
    "import sklearn\n",
    "from sklearn.model_selection import train_test_split\n",
    "from sklearn.metrics import accuracy_score, classification_report, confusion_matrix, precision_score, recall_score, ConfusionMatrixDisplay\n",
    "from sklearn.preprocessing import StandardScaler\n",
    "\n",
    "import os\n",
    "import tempfile\n",
    "\n",
    "import matplotlib.pyplot as plt\n",
    "import matplotlib as mpl\n",
    "\n",
    "import seaborn as sns\n",
    "\n",
    "\n"
   ]
  },
  {
   "cell_type": "code",
   "execution_count": 2,
   "metadata": {},
   "outputs": [],
   "source": [
    "mpl.rcParams['figure.figsize'] = (12, 10)\n",
    "colors = plt.rcParams['axes.prop_cycle'].by_key()['color']"
   ]
  },
  {
   "cell_type": "code",
   "execution_count": 3,
   "metadata": {},
   "outputs": [
    {
     "data": {
      "text/html": [
       "<div>\n",
       "<style scoped>\n",
       "    .dataframe tbody tr th:only-of-type {\n",
       "        vertical-align: middle;\n",
       "    }\n",
       "\n",
       "    .dataframe tbody tr th {\n",
       "        vertical-align: top;\n",
       "    }\n",
       "\n",
       "    .dataframe thead th {\n",
       "        text-align: right;\n",
       "    }\n",
       "</style>\n",
       "<table border=\"1\" class=\"dataframe\">\n",
       "  <thead>\n",
       "    <tr style=\"text-align: right;\">\n",
       "      <th></th>\n",
       "      <th>Unnamed: 0</th>\n",
       "      <th>CMI_C01</th>\n",
       "      <th>CMI_C02</th>\n",
       "      <th>CMI_C03</th>\n",
       "      <th>CMI_C04</th>\n",
       "      <th>CMI_C05</th>\n",
       "      <th>CMI_C06</th>\n",
       "      <th>CMI_C07</th>\n",
       "      <th>CMI_C08</th>\n",
       "      <th>CMI_C09</th>\n",
       "      <th>...</th>\n",
       "      <th>CMI_C14</th>\n",
       "      <th>CMI_C15</th>\n",
       "      <th>CMI_C16</th>\n",
       "      <th>ACM</th>\n",
       "      <th>BCM</th>\n",
       "      <th>Cloud_Probabilities</th>\n",
       "      <th>lat</th>\n",
       "      <th>lon</th>\n",
       "      <th>Coordinates</th>\n",
       "      <th>Lightning</th>\n",
       "    </tr>\n",
       "  </thead>\n",
       "  <tbody>\n",
       "    <tr>\n",
       "      <th>0</th>\n",
       "      <td>0</td>\n",
       "      <td>0.206845</td>\n",
       "      <td>0.118551</td>\n",
       "      <td>0.253968</td>\n",
       "      <td>0.005159</td>\n",
       "      <td>0.129127</td>\n",
       "      <td>0.067619</td>\n",
       "      <td>295.9144</td>\n",
       "      <td>236.17001</td>\n",
       "      <td>243.87854</td>\n",
       "      <td>...</td>\n",
       "      <td>289.08148</td>\n",
       "      <td>285.05243</td>\n",
       "      <td>267.336</td>\n",
       "      <td>0.562537</td>\n",
       "      <td>0.187515</td>\n",
       "      <td>0.216501</td>\n",
       "      <td>45.661993</td>\n",
       "      <td>-81.788418</td>\n",
       "      <td>(45.66199265221488, -81.78841847220028)</td>\n",
       "      <td>1</td>\n",
       "    </tr>\n",
       "    <tr>\n",
       "      <th>1</th>\n",
       "      <td>1</td>\n",
       "      <td>0.206845</td>\n",
       "      <td>0.118551</td>\n",
       "      <td>0.253968</td>\n",
       "      <td>0.005159</td>\n",
       "      <td>0.129127</td>\n",
       "      <td>0.067619</td>\n",
       "      <td>295.9144</td>\n",
       "      <td>236.17001</td>\n",
       "      <td>243.87854</td>\n",
       "      <td>...</td>\n",
       "      <td>289.08148</td>\n",
       "      <td>285.05243</td>\n",
       "      <td>267.336</td>\n",
       "      <td>0.562537</td>\n",
       "      <td>0.187515</td>\n",
       "      <td>0.216501</td>\n",
       "      <td>45.661993</td>\n",
       "      <td>-81.788418</td>\n",
       "      <td>(45.66199265221488, -81.78841847220028)</td>\n",
       "      <td>1</td>\n",
       "    </tr>\n",
       "    <tr>\n",
       "      <th>2</th>\n",
       "      <td>2</td>\n",
       "      <td>0.206845</td>\n",
       "      <td>0.118551</td>\n",
       "      <td>0.253968</td>\n",
       "      <td>0.005159</td>\n",
       "      <td>0.129127</td>\n",
       "      <td>0.067619</td>\n",
       "      <td>295.9144</td>\n",
       "      <td>236.17001</td>\n",
       "      <td>243.87854</td>\n",
       "      <td>...</td>\n",
       "      <td>289.08148</td>\n",
       "      <td>285.05243</td>\n",
       "      <td>267.336</td>\n",
       "      <td>0.562537</td>\n",
       "      <td>0.187515</td>\n",
       "      <td>0.216501</td>\n",
       "      <td>45.661993</td>\n",
       "      <td>-81.788418</td>\n",
       "      <td>(45.66199265221488, -81.78841847220028)</td>\n",
       "      <td>1</td>\n",
       "    </tr>\n",
       "    <tr>\n",
       "      <th>3</th>\n",
       "      <td>3</td>\n",
       "      <td>0.206845</td>\n",
       "      <td>0.118551</td>\n",
       "      <td>0.253968</td>\n",
       "      <td>0.005159</td>\n",
       "      <td>0.129127</td>\n",
       "      <td>0.067619</td>\n",
       "      <td>295.9144</td>\n",
       "      <td>236.17001</td>\n",
       "      <td>243.87854</td>\n",
       "      <td>...</td>\n",
       "      <td>289.08148</td>\n",
       "      <td>285.05243</td>\n",
       "      <td>267.336</td>\n",
       "      <td>0.562537</td>\n",
       "      <td>0.187515</td>\n",
       "      <td>0.216501</td>\n",
       "      <td>45.661993</td>\n",
       "      <td>-81.788418</td>\n",
       "      <td>(45.66199265221488, -81.78841847220028)</td>\n",
       "      <td>1</td>\n",
       "    </tr>\n",
       "    <tr>\n",
       "      <th>4</th>\n",
       "      <td>4</td>\n",
       "      <td>0.206845</td>\n",
       "      <td>0.118551</td>\n",
       "      <td>0.253968</td>\n",
       "      <td>0.005159</td>\n",
       "      <td>0.129127</td>\n",
       "      <td>0.067619</td>\n",
       "      <td>295.9144</td>\n",
       "      <td>236.17001</td>\n",
       "      <td>243.87854</td>\n",
       "      <td>...</td>\n",
       "      <td>289.08148</td>\n",
       "      <td>285.05243</td>\n",
       "      <td>267.336</td>\n",
       "      <td>0.562537</td>\n",
       "      <td>0.187515</td>\n",
       "      <td>0.216501</td>\n",
       "      <td>45.661993</td>\n",
       "      <td>-81.788418</td>\n",
       "      <td>(45.66199265221488, -81.78841847220028)</td>\n",
       "      <td>1</td>\n",
       "    </tr>\n",
       "  </tbody>\n",
       "</table>\n",
       "<p>5 rows × 24 columns</p>\n",
       "</div>"
      ],
      "text/plain": [
       "   Unnamed: 0   CMI_C01   CMI_C02   CMI_C03   CMI_C04   CMI_C05   CMI_C06  \\\n",
       "0           0  0.206845  0.118551  0.253968  0.005159  0.129127  0.067619   \n",
       "1           1  0.206845  0.118551  0.253968  0.005159  0.129127  0.067619   \n",
       "2           2  0.206845  0.118551  0.253968  0.005159  0.129127  0.067619   \n",
       "3           3  0.206845  0.118551  0.253968  0.005159  0.129127  0.067619   \n",
       "4           4  0.206845  0.118551  0.253968  0.005159  0.129127  0.067619   \n",
       "\n",
       "    CMI_C07    CMI_C08    CMI_C09  ...    CMI_C14    CMI_C15  CMI_C16  \\\n",
       "0  295.9144  236.17001  243.87854  ...  289.08148  285.05243  267.336   \n",
       "1  295.9144  236.17001  243.87854  ...  289.08148  285.05243  267.336   \n",
       "2  295.9144  236.17001  243.87854  ...  289.08148  285.05243  267.336   \n",
       "3  295.9144  236.17001  243.87854  ...  289.08148  285.05243  267.336   \n",
       "4  295.9144  236.17001  243.87854  ...  289.08148  285.05243  267.336   \n",
       "\n",
       "        ACM       BCM  Cloud_Probabilities        lat        lon  \\\n",
       "0  0.562537  0.187515             0.216501  45.661993 -81.788418   \n",
       "1  0.562537  0.187515             0.216501  45.661993 -81.788418   \n",
       "2  0.562537  0.187515             0.216501  45.661993 -81.788418   \n",
       "3  0.562537  0.187515             0.216501  45.661993 -81.788418   \n",
       "4  0.562537  0.187515             0.216501  45.661993 -81.788418   \n",
       "\n",
       "                               Coordinates  Lightning  \n",
       "0  (45.66199265221488, -81.78841847220028)          1  \n",
       "1  (45.66199265221488, -81.78841847220028)          1  \n",
       "2  (45.66199265221488, -81.78841847220028)          1  \n",
       "3  (45.66199265221488, -81.78841847220028)          1  \n",
       "4  (45.66199265221488, -81.78841847220028)          1  \n",
       "\n",
       "[5 rows x 24 columns]"
      ]
     },
     "execution_count": 3,
     "metadata": {},
     "output_type": "execute_result"
    }
   ],
   "source": [
    "df = pd.read_csv(\"/Users/robbiefeldstein/Documents/Programming/Research/Datasets/subset.csv\")\n",
    "df.head()\n"
   ]
  },
  {
   "cell_type": "code",
   "execution_count": 4,
   "metadata": {},
   "outputs": [
    {
     "name": "stdout",
     "output_type": "stream",
     "text": [
      "Examples:\n",
      "    Total: 5000000\n",
      "    Positive: 180480 (3.61% of total)\n",
      "\n"
     ]
    }
   ],
   "source": [
    "#Look at class imbalance\n",
    "\n",
    "neg, pos = np.bincount(df['Lightning'])\n",
    "total = neg + pos\n",
    "print('Examples:\\n    Total: {}\\n    Positive: {} ({:.2f}% of total)\\n'.format(\n",
    "    total, pos, 100 * pos / total))"
   ]
  },
  {
   "cell_type": "code",
   "execution_count": 5,
   "metadata": {},
   "outputs": [],
   "source": [
    "features = [\"CMI_C01\", \"CMI_C02\", \"CMI_C03\",\"CMI_C04\", \"CMI_C05\",\"CMI_C06\", \"CMI_C07\",\"CMI_C15\",\"Cloud_Probabilities\",\"Lightning\"]\n",
    "#let's just do less features\n",
    "#Predictors\n",
    "\n",
    "copy_df = df.copy()\n",
    "copy_df = copy_df[features]\n",
    "\n",
    "X = copy_df[features]\n",
    "\n",
    "# Use a utility from sklearn to split and shuffle your dataset.\n",
    "train_df, test_df = train_test_split(copy_df, test_size=0.2)\n",
    "train_df, val_df = train_test_split(train_df, test_size=0.2)\n",
    "\n",
    "# Form np arrays of labels and features.\n",
    "train_labels = np.array(train_df.pop('Lightning'))\n",
    "bool_train_labels = train_labels != 0\n",
    "val_labels = np.array(val_df.pop('Lightning'))\n",
    "test_labels = np.array(test_df.pop('Lightning'))\n",
    "\n",
    "train_features = np.array(train_df)\n",
    "val_features = np.array(val_df)\n",
    "test_features = np.array(test_df)\n"
   ]
  },
  {
   "cell_type": "code",
   "execution_count": 6,
   "metadata": {},
   "outputs": [
    {
     "name": "stdout",
     "output_type": "stream",
     "text": [
      "Average class probability in training set:   0.0360\n",
      "Average class probability in validation set: 0.0363\n",
      "Average class probability in test set:       0.0363\n"
     ]
    }
   ],
   "source": [
    "#Averages are roughly similar\n",
    "\n",
    "print(f'Average class probability in training set:   {train_labels.mean():.4f}')\n",
    "print(f'Average class probability in validation set: {val_labels.mean():.4f}')\n",
    "print(f'Average class probability in test set:       {test_labels.mean():.4f}')"
   ]
  },
  {
   "cell_type": "code",
   "execution_count": 7,
   "metadata": {},
   "outputs": [
    {
     "name": "stdout",
     "output_type": "stream",
     "text": [
      "Training labels shape: (3200000,)\n",
      "Validation labels shape: (800000,)\n",
      "Test labels shape: (1000000,)\n",
      "Training features shape: (3200000, 9)\n",
      "Validation features shape: (800000, 9)\n",
      "Test features shape: (1000000, 9)\n"
     ]
    }
   ],
   "source": [
    "scaler = StandardScaler()\n",
    "train_features = scaler.fit_transform(train_features)\n",
    "\n",
    "val_features = scaler.transform(val_features)\n",
    "test_features = scaler.transform(test_features)\n",
    "\n",
    "train_features = np.clip(train_features, -5, 5)\n",
    "val_features = np.clip(val_features, -5, 5)\n",
    "test_features = np.clip(test_features, -5, 5)\n",
    "\n",
    "\n",
    "print('Training labels shape:', train_labels.shape)\n",
    "print('Validation labels shape:', val_labels.shape)\n",
    "print('Test labels shape:', test_labels.shape)\n",
    "\n",
    "print('Training features shape:', train_features.shape)\n",
    "print('Validation features shape:', val_features.shape)\n",
    "print('Test features shape:', test_features.shape)"
   ]
  },
  {
   "cell_type": "code",
   "execution_count": 8,
   "metadata": {},
   "outputs": [
    {
     "name": "stderr",
     "output_type": "stream",
     "text": [
      "2023-10-26 17:14:15.774876: I metal_plugin/src/device/metal_device.cc:1154] Metal device set to: Apple M2 Pro\n",
      "2023-10-26 17:14:15.774918: I metal_plugin/src/device/metal_device.cc:296] systemMemory: 32.00 GB\n",
      "2023-10-26 17:14:15.774930: I metal_plugin/src/device/metal_device.cc:313] maxCacheSize: 10.67 GB\n",
      "2023-10-26 17:14:15.775487: I tensorflow/core/common_runtime/pluggable_device/pluggable_device_factory.cc:303] Could not identify NUMA node of platform GPU ID 0, defaulting to 0. Your kernel may not have been built with NUMA support.\n",
      "2023-10-26 17:14:15.775811: I tensorflow/core/common_runtime/pluggable_device/pluggable_device_factory.cc:269] Created TensorFlow device (/job:localhost/replica:0/task:0/device:GPU:0 with 0 MB memory) -> physical PluggableDevice (device: 0, name: METAL, pci bus id: <undefined>)\n"
     ]
    }
   ],
   "source": [
    "#Recommended parameters for imbalanced model\n",
    "\n",
    "METRICS = [\n",
    "      keras.metrics.BinaryCrossentropy(name='cross entropy'),  # same as model's loss\n",
    "      keras.metrics.MeanSquaredError(name='Brier score'),\n",
    "      keras.metrics.TruePositives(name='tp'),\n",
    "      keras.metrics.FalsePositives(name='fp'),\n",
    "      keras.metrics.TrueNegatives(name='tn'),\n",
    "      keras.metrics.FalseNegatives(name='fn'), \n",
    "      keras.metrics.BinaryAccuracy(name='accuracy'),\n",
    "      keras.metrics.Precision(name='precision'),\n",
    "      keras.metrics.Recall(name='recall'),\n",
    "      keras.metrics.AUC(name='auc'),\n",
    "]\n",
    "\n",
    "def make_model(metrics=METRICS, output_bias=None):\n",
    "  if output_bias is not None:\n",
    "    output_bias = tf.keras.initializers.Constant(output_bias)\n",
    "\n",
    "  model = keras.Sequential([\n",
    "    keras.layers.Dense(len(features), activation='relu', input_shape=(train_features.shape[-1],)),\n",
    "    keras.layers.BatchNormalization(),\n",
    "    keras.layers.Dense(16, activation='relu'),\n",
    "    keras.layers.Dropout(0.5),\n",
    "    keras.layers.Dense(8, activation='relu'),\n",
    "    keras.layers.Dropout(0.5),\n",
    "    keras.layers.Dense(4, activation='relu'),\n",
    "    keras.layers.Dropout(0.5),\n",
    "    keras.layers.Dense(2, activation='relu'),\n",
    "    keras.layers.Dropout(0.5),\n",
    "    #Output layer\n",
    "    keras.layers.Dense(1, activation='sigmoid', bias_initializer=output_bias)\n",
    "])\n",
    "\n",
    "  model.compile(\n",
    "      optimizer=keras.optimizers.legacy.Adam(learning_rate=1e-3),\n",
    "      loss=keras.losses.BinaryCrossentropy(),\n",
    "      metrics=[tf.keras.metrics.FalsePositives(), tf.keras.metrics.Precision()])\n",
    "\n",
    "  return model"
   ]
  },
  {
   "cell_type": "code",
   "execution_count": 9,
   "metadata": {},
   "outputs": [],
   "source": [
    "EPOCHS = 128\n",
    "BATCH_SIZE = 16384\n",
    "\n",
    "early_stopping = tf.keras.callbacks.EarlyStopping(\n",
    "    monitor='loss', \n",
    "    verbose=1,\n",
    "    patience=10,\n",
    "    mode='max',\n",
    "    restore_best_weights=True)"
   ]
  },
  {
   "cell_type": "code",
   "execution_count": 10,
   "metadata": {},
   "outputs": [
    {
     "name": "stdout",
     "output_type": "stream",
     "text": [
      "[-3.32157322]\n",
      "Model: \"sequential\"\n",
      "_________________________________________________________________\n",
      " Layer (type)                Output Shape              Param #   \n",
      "=================================================================\n",
      " dense (Dense)               (None, 10)                100       \n",
      "                                                                 \n",
      " batch_normalization (Batch  (None, 10)                40        \n",
      " Normalization)                                                  \n",
      "                                                                 \n",
      " dense_1 (Dense)             (None, 16)                176       \n",
      "                                                                 \n",
      " dropout (Dropout)           (None, 16)                0         \n",
      "                                                                 \n",
      " dense_2 (Dense)             (None, 8)                 136       \n",
      "                                                                 \n",
      " dropout_1 (Dropout)         (None, 8)                 0         \n",
      "                                                                 \n",
      " dense_3 (Dense)             (None, 4)                 36        \n",
      "                                                                 \n",
      " dropout_2 (Dropout)         (None, 4)                 0         \n",
      "                                                                 \n",
      " dense_4 (Dense)             (None, 2)                 10        \n",
      "                                                                 \n",
      " dropout_3 (Dropout)         (None, 2)                 0         \n",
      "                                                                 \n",
      " dense_5 (Dense)             (None, 1)                 3         \n",
      "                                                                 \n",
      "=================================================================\n",
      "Total params: 501 (1.96 KB)\n",
      "Trainable params: 481 (1.88 KB)\n",
      "Non-trainable params: 20 (80.00 Byte)\n",
      "_________________________________________________________________\n"
     ]
    }
   ],
   "source": [
    "initial_bias = np.log([pos/len(df)])\n",
    "print(initial_bias)\n",
    "model = make_model(output_bias=initial_bias)\n",
    "model.summary()"
   ]
  },
  {
   "cell_type": "code",
   "execution_count": 11,
   "metadata": {},
   "outputs": [],
   "source": [
    "initial_weights = os.path.join(tempfile.mkdtemp(), 'initial_weights')\n",
    "model.save_weights(initial_weights)"
   ]
  },
  {
   "cell_type": "code",
   "execution_count": 12,
   "metadata": {},
   "outputs": [
    {
     "name": "stderr",
     "output_type": "stream",
     "text": [
      "2023-10-26 17:14:17.748760: I tensorflow/core/grappler/optimizers/custom_graph_optimizer_registry.cc:114] Plugin optimizer for device_type GPU is enabled.\n"
     ]
    },
    {
     "name": "stdout",
     "output_type": "stream",
     "text": [
      "Loss: 0.1573\n"
     ]
    },
    {
     "name": "stderr",
     "output_type": "stream",
     "text": [
      "2023-10-26 17:14:22.883110: I tensorflow/core/grappler/optimizers/custom_graph_optimizer_registry.cc:114] Plugin optimizer for device_type GPU is enabled.\n"
     ]
    },
    {
     "name": "stdout",
     "output_type": "stream",
     "text": [
      "1/1 [==============================] - 1s 710ms/step\n"
     ]
    },
    {
     "data": {
      "text/plain": [
       "array([[2.5665820e-01],\n",
       "       [3.8330463e-01],\n",
       "       [2.5333714e-02],\n",
       "       [1.0488297e-01],\n",
       "       [3.3110052e-01],\n",
       "       [9.8296143e-03],\n",
       "       [3.6688529e-02],\n",
       "       [1.1772861e-01],\n",
       "       [1.9276161e-04],\n",
       "       [4.0475231e-01]], dtype=float32)"
      ]
     },
     "execution_count": 12,
     "metadata": {},
     "output_type": "execute_result"
    }
   ],
   "source": [
    "results = model.evaluate(train_features, train_labels, batch_size=BATCH_SIZE, verbose=0)\n",
    "print(\"Loss: {:0.4f}\".format(results[0]))\n",
    "\n",
    "model = make_model(output_bias=initial_bias)\n",
    "model.predict(train_features[:10])"
   ]
  },
  {
   "cell_type": "code",
   "execution_count": 13,
   "metadata": {},
   "outputs": [],
   "source": [
    "# model = make_model()\n",
    "# model.load_weights(initial_weights)\n",
    "# model.layers[-1].bias.assign([0.0])\n",
    "# zero_bias_history = model.fit(\n",
    "#     train_features,\n",
    "#     train_labels,\n",
    "#     batch_size=BATCH_SIZE,\n",
    "#     epochs=16,\n",
    "#     validation_data=(val_features, val_labels), \n",
    "#     verbose=0)"
   ]
  },
  {
   "cell_type": "code",
   "execution_count": 14,
   "metadata": {},
   "outputs": [],
   "source": [
    "# model = make_model()\n",
    "# model.load_weights(initial_weights)\n",
    "# careful_bias_history = model.fit(\n",
    "#     train_features,\n",
    "#     train_labels,\n",
    "#     batch_size=BATCH_SIZE,\n",
    "#     epochs=16,\n",
    "#     validation_data=(val_features, val_labels), \n",
    "#     verbose=0)"
   ]
  },
  {
   "cell_type": "code",
   "execution_count": 15,
   "metadata": {},
   "outputs": [],
   "source": [
    "def plot_loss(history, label, n):\n",
    "  # Use a log scale on y-axis to show the wide range of values.\n",
    "  plt.semilogy(history.epoch, history.history['loss'],\n",
    "               color=colors[n], label='Train ' + label)\n",
    "  plt.semilogy(history.epoch, history.history['val_loss'],\n",
    "               color=colors[n], label='Val ' + label,\n",
    "               linestyle=\"--\")\n",
    "  plt.xlabel('Epoch')\n",
    "  plt.ylabel('Loss')\n",
    "  plt.legend()"
   ]
  },
  {
   "cell_type": "code",
   "execution_count": 16,
   "metadata": {},
   "outputs": [],
   "source": [
    "# plot_loss(zero_bias_history, \"Zero Bias\", 0)\n",
    "# plot_loss(careful_bias_history, \"Careful Bias\", 1)"
   ]
  },
  {
   "cell_type": "code",
   "execution_count": 17,
   "metadata": {},
   "outputs": [],
   "source": [
    "def plot_metrics(history):\n",
    "  metrics = ['loss', 'precision',]\n",
    "  for n, metric in enumerate(metrics):\n",
    "    name = metric.replace(\"_\",\" \").capitalize()\n",
    "    plt.subplot(2,2,n+1)\n",
    "    plt.plot(history.epoch, history.history[metric], color=colors[0], label='Train')\n",
    "    plt.plot(history.epoch, history.history['val_'+metric],\n",
    "             color=colors[0], linestyle=\"--\", label='Val')\n",
    "    plt.xlabel('Epoch')\n",
    "    plt.ylabel(name)\n",
    "    if metric == 'loss':\n",
    "      plt.ylim([0, plt.ylim()[1]])\n",
    "    elif metric == 'auc':\n",
    "      plt.ylim([0.8,1])\n",
    "    else:\n",
    "      plt.ylim([0,1])\n",
    "\n",
    "    plt.legend()"
   ]
  },
  {
   "cell_type": "code",
   "execution_count": 18,
   "metadata": {},
   "outputs": [
    {
     "name": "stdout",
     "output_type": "stream",
     "text": [
      "196/196 [==============================] - 1s 4ms/step\n",
      "62/62 [==============================] - 1s 10ms/step\n"
     ]
    }
   ],
   "source": [
    "train_predictions_baseline = model.predict(train_features, batch_size=BATCH_SIZE)\n",
    "test_predictions_baseline = model.predict(test_features, batch_size=BATCH_SIZE)"
   ]
  },
  {
   "cell_type": "code",
   "execution_count": 19,
   "metadata": {},
   "outputs": [],
   "source": [
    "def plot_cm(labels, predictions, threshold=0.5):\n",
    "  cm = confusion_matrix(labels, predictions > threshold)\n",
    "  plt.figure(figsize=(5,5))\n",
    "  sns.heatmap(cm, annot=True, fmt=\"d\")\n",
    "  plt.title('Confusion matrix @{:.2f}'.format(threshold))\n",
    "  plt.ylabel('Actual label')\n",
    "  plt.xlabel('Predicted label')\n",
    "\n",
    "  print('Legitimate Transactions Detected (True Negatives): ', cm[0][0])\n",
    "  print('Legitimate Transactions Incorrectly Detected (False Positives): ', cm[0][1])\n",
    "  print('Fraudulent Transactions Missed (False Negatives): ', cm[1][0])\n",
    "  print('Fraudulent Transactions Detected (True Positives): ', cm[1][1])\n",
    "  print('Total Fraudulent Transactions: ', np.sum(cm[1]))"
   ]
  },
  {
   "cell_type": "code",
   "execution_count": 20,
   "metadata": {},
   "outputs": [
    {
     "name": "stdout",
     "output_type": "stream",
     "text": [
      "Weight for class 0: 0.52\n",
      "Weight for class 1: 13.85\n"
     ]
    }
   ],
   "source": [
    "# Scaling by total/2 helps keep the loss to a similar magnitude.\n",
    "# The sum of the weights of all examples stays the same.\n",
    "weight_for_0 = (1 / neg) * (total / 2.0)\n",
    "weight_for_1 = (1 / pos) * (total / 2.0)\n",
    "\n",
    "class_weight = {0: weight_for_0, 1: weight_for_1}\n",
    "\n",
    "print('Weight for class 0: {:.2f}'.format(weight_for_0))\n",
    "print('Weight for class 1: {:.2f}'.format(weight_for_1))"
   ]
  },
  {
   "cell_type": "code",
   "execution_count": 26,
   "metadata": {},
   "outputs": [
    {
     "name": "stdout",
     "output_type": "stream",
     "text": [
      "Epoch 1/50\n"
     ]
    },
    {
     "name": "stderr",
     "output_type": "stream",
     "text": [
      "2023-10-26 17:25:47.973044: I tensorflow/core/grappler/optimizers/custom_graph_optimizer_registry.cc:114] Plugin optimizer for device_type GPU is enabled.\n"
     ]
    },
    {
     "name": "stdout",
     "output_type": "stream",
     "text": [
      "196/196 [==============================] - ETA: 0s - loss: 1.6808 - false_positives_5: 146800.0000 - precision_5: 0.0703"
     ]
    },
    {
     "name": "stderr",
     "output_type": "stream",
     "text": [
      "2023-10-26 17:26:02.786891: I tensorflow/core/grappler/optimizers/custom_graph_optimizer_registry.cc:114] Plugin optimizer for device_type GPU is enabled.\n"
     ]
    },
    {
     "name": "stdout",
     "output_type": "stream",
     "text": [
      "196/196 [==============================] - 18s 59ms/step - loss: 1.6808 - false_positives_5: 146800.0000 - precision_5: 0.0703 - val_loss: 0.1515 - val_false_positives_5: 0.0000e+00 - val_precision_5: 0.0000e+00\n",
      "Epoch 2/50\n",
      "196/196 [==============================] - 4s 20ms/step - loss: 1.3826 - false_positives_5: 164105.0000 - precision_5: 0.0809 - val_loss: 0.1747 - val_false_positives_5: 0.0000e+00 - val_precision_5: 0.0000e+00\n",
      "Epoch 3/50\n",
      "196/196 [==============================] - 4s 19ms/step - loss: 1.1986 - false_positives_5: 250390.0000 - precision_5: 0.0725 - val_loss: 0.2065 - val_false_positives_5: 0.0000e+00 - val_precision_5: 0.0000e+00\n",
      "Epoch 4/50\n",
      "196/196 [==============================] - 4s 19ms/step - loss: 1.0990 - false_positives_5: 303480.0000 - precision_5: 0.0734 - val_loss: 0.2215 - val_false_positives_5: 185.0000 - val_precision_5: 0.3097\n",
      "Epoch 5/50\n",
      "196/196 [==============================] - 4s 19ms/step - loss: 1.0296 - false_positives_5: 319089.0000 - precision_5: 0.0739 - val_loss: 0.2379 - val_false_positives_5: 2060.0000 - val_precision_5: 0.4184\n",
      "Epoch 6/50\n",
      "196/196 [==============================] - 4s 20ms/step - loss: 0.9754 - false_positives_5: 344265.0000 - precision_5: 0.0713 - val_loss: 0.2569 - val_false_positives_5: 2496.0000 - val_precision_5: 0.3164\n",
      "Epoch 7/50\n",
      "196/196 [==============================] - 4s 19ms/step - loss: 0.9322 - false_positives_5: 376612.0000 - precision_5: 0.0680 - val_loss: 0.2844 - val_false_positives_5: 2391.0000 - val_precision_5: 0.3327\n",
      "Epoch 8/50\n",
      "196/196 [==============================] - 4s 19ms/step - loss: 0.8965 - false_positives_5: 395227.0000 - precision_5: 0.0655 - val_loss: 0.3028 - val_false_positives_5: 1872.0000 - val_precision_5: 0.3743\n",
      "Epoch 9/50\n",
      "196/196 [==============================] - 4s 19ms/step - loss: 0.8675 - false_positives_5: 394385.0000 - precision_5: 0.0654 - val_loss: 0.3163 - val_false_positives_5: 1280.0000 - val_precision_5: 0.3340\n",
      "Epoch 10/50\n",
      "196/196 [==============================] - 4s 19ms/step - loss: 0.8394 - false_positives_5: 383103.0000 - precision_5: 0.0670 - val_loss: 0.3309 - val_false_positives_5: 1428.0000 - val_precision_5: 0.3681\n",
      "Epoch 11/50\n",
      "196/196 [==============================] - 4s 19ms/step - loss: 0.8160 - false_positives_5: 367979.0000 - precision_5: 0.0671 - val_loss: 0.3446 - val_false_positives_5: 2153.0000 - val_precision_5: 0.4105\n",
      "Epoch 12/50\n",
      "196/196 [==============================] - 4s 20ms/step - loss: 0.7940 - false_positives_5: 342801.0000 - precision_5: 0.0698 - val_loss: 0.3606 - val_false_positives_5: 2904.0000 - val_precision_5: 0.4919\n",
      "Epoch 13/50\n",
      "196/196 [==============================] - 4s 20ms/step - loss: 0.7723 - false_positives_5: 317857.0000 - precision_5: 0.0726 - val_loss: 0.3756 - val_false_positives_5: 6908.0000 - val_precision_5: 0.3929\n",
      "Epoch 14/50\n",
      "196/196 [==============================] - 4s 19ms/step - loss: 0.7504 - false_positives_5: 296370.0000 - precision_5: 0.0763 - val_loss: 0.3987 - val_false_positives_5: 15296.0000 - val_precision_5: 0.3050\n",
      "Epoch 15/50\n",
      "196/196 [==============================] - 4s 19ms/step - loss: 0.7336 - false_positives_5: 274811.0000 - precision_5: 0.0783 - val_loss: 0.4138 - val_false_positives_5: 5459.0000 - val_precision_5: 0.4337\n",
      "Epoch 16/50\n",
      "196/196 [==============================] - 4s 19ms/step - loss: 0.7165 - false_positives_5: 262973.0000 - precision_5: 0.0803 - val_loss: 0.4386 - val_false_positives_5: 22298.0000 - val_precision_5: 0.2667\n",
      "Epoch 17/50\n",
      "196/196 [==============================] - 4s 19ms/step - loss: 0.7015 - false_positives_5: 261055.0000 - precision_5: 0.0821 - val_loss: 0.4638 - val_false_positives_5: 18414.0000 - val_precision_5: 0.2827\n",
      "Epoch 18/50\n",
      "196/196 [==============================] - 4s 19ms/step - loss: 0.6896 - false_positives_5: 267770.0000 - precision_5: 0.0830 - val_loss: 0.4918 - val_false_positives_5: 23646.0000 - val_precision_5: 0.2588\n",
      "Epoch 19/50\n",
      "196/196 [==============================] - 4s 19ms/step - loss: 0.6811 - false_positives_5: 287857.0000 - precision_5: 0.0810 - val_loss: 0.5188 - val_false_positives_5: 26638.0000 - val_precision_5: 0.2471\n",
      "Epoch 20/50\n",
      "196/196 [==============================] - 4s 19ms/step - loss: 0.6751 - false_positives_5: 319488.0000 - precision_5: 0.0781 - val_loss: 0.5481 - val_false_positives_5: 69321.0000 - val_precision_5: 0.1564\n",
      "Epoch 21/50\n",
      "196/196 [==============================] - 4s 19ms/step - loss: 0.6704 - false_positives_5: 358933.0000 - precision_5: 0.0758 - val_loss: 0.5678 - val_false_positives_5: 96764.0000 - val_precision_5: 0.1342\n",
      "Epoch 22/50\n",
      "196/196 [==============================] - 4s 19ms/step - loss: 0.6662 - false_positives_5: 414508.0000 - precision_5: 0.0732 - val_loss: 0.5886 - val_false_positives_5: 125903.0000 - val_precision_5: 0.1125\n",
      "Epoch 23/50\n",
      "196/196 [==============================] - 4s 19ms/step - loss: 0.6643 - false_positives_5: 462068.0000 - precision_5: 0.0712 - val_loss: 0.6069 - val_false_positives_5: 161376.0000 - val_precision_5: 0.0929\n",
      "Epoch 24/50\n",
      "196/196 [==============================] - 4s 19ms/step - loss: 0.6628 - false_positives_5: 508355.0000 - precision_5: 0.0697 - val_loss: 0.6153 - val_false_positives_5: 170747.0000 - val_precision_5: 0.0928\n",
      "Epoch 25/50\n",
      "196/196 [==============================] - 4s 19ms/step - loss: 0.6614 - false_positives_5: 548205.0000 - precision_5: 0.0690 - val_loss: 0.6213 - val_false_positives_5: 215765.0000 - val_precision_5: 0.0819\n",
      "Epoch 26/50\n",
      "196/196 [==============================] - 4s 19ms/step - loss: 0.6618 - false_positives_5: 577337.0000 - precision_5: 0.0679 - val_loss: 0.6265 - val_false_positives_5: 191525.0000 - val_precision_5: 0.0883\n",
      "Epoch 27/50\n",
      "196/196 [==============================] - 4s 19ms/step - loss: 0.6620 - false_positives_5: 598672.0000 - precision_5: 0.0675 - val_loss: 0.6376 - val_false_positives_5: 238625.0000 - val_precision_5: 0.0687\n",
      "Epoch 28/50\n",
      "196/196 [==============================] - 4s 19ms/step - loss: 0.6607 - false_positives_5: 616130.0000 - precision_5: 0.0668 - val_loss: 0.6386 - val_false_positives_5: 243817.0000 - val_precision_5: 0.0703\n",
      "Epoch 29/50\n",
      "196/196 [==============================] - 4s 19ms/step - loss: 0.6603 - false_positives_5: 629991.0000 - precision_5: 0.0666 - val_loss: 0.6355 - val_false_positives_5: 203609.0000 - val_precision_5: 0.0805\n",
      "Epoch 30/50\n",
      "196/196 [==============================] - 4s 19ms/step - loss: 0.6609 - false_positives_5: 628478.0000 - precision_5: 0.0663 - val_loss: 0.6330 - val_false_positives_5: 227444.0000 - val_precision_5: 0.0785\n",
      "Epoch 31/50\n",
      "196/196 [==============================] - 4s 19ms/step - loss: 0.6612 - false_positives_5: 630149.0000 - precision_5: 0.0664 - val_loss: 0.6308 - val_false_positives_5: 212236.0000 - val_precision_5: 0.0823\n",
      "Epoch 32/50\n",
      "196/196 [==============================] - 4s 19ms/step - loss: 0.6623 - false_positives_5: 628889.0000 - precision_5: 0.0660 - val_loss: 0.6294 - val_false_positives_5: 193466.0000 - val_precision_5: 0.0869\n",
      "Epoch 33/50\n",
      "196/196 [==============================] - 4s 19ms/step - loss: 0.6629 - false_positives_5: 626280.0000 - precision_5: 0.0656 - val_loss: 0.6403 - val_false_positives_5: 239612.0000 - val_precision_5: 0.0693\n",
      "Epoch 34/50\n",
      "196/196 [==============================] - 4s 19ms/step - loss: 0.6643 - false_positives_5: 619606.0000 - precision_5: 0.0651 - val_loss: 0.6405 - val_false_positives_5: 153624.0000 - val_precision_5: 0.0799\n",
      "Epoch 35/50\n",
      "196/196 [==============================] - 4s 19ms/step - loss: 0.6631 - false_positives_5: 624633.0000 - precision_5: 0.0649 - val_loss: 0.6496 - val_false_positives_5: 327125.0000 - val_precision_5: 0.0574\n",
      "Epoch 36/50\n",
      "196/196 [==============================] - 4s 19ms/step - loss: 0.6669 - false_positives_5: 622770.0000 - precision_5: 0.0647 - val_loss: 0.6358 - val_false_positives_5: 222807.0000 - val_precision_5: 0.0770\n",
      "Epoch 37/50\n",
      "196/196 [==============================] - 4s 19ms/step - loss: 0.6669 - false_positives_5: 615220.0000 - precision_5: 0.0641 - val_loss: 0.6045 - val_false_positives_5: 88232.0000 - val_precision_5: 0.1306\n",
      "Epoch 38/50\n",
      "196/196 [==============================] - 4s 19ms/step - loss: 0.6643 - false_positives_5: 611117.0000 - precision_5: 0.0652 - val_loss: 0.6418 - val_false_positives_5: 264379.0000 - val_precision_5: 0.0720\n",
      "Epoch 39/50\n",
      "196/196 [==============================] - 4s 19ms/step - loss: 0.6666 - false_positives_5: 596980.0000 - precision_5: 0.0655 - val_loss: 0.6680 - val_false_positives_5: 347824.0000 - val_precision_5: 0.0574\n",
      "Epoch 40/50\n",
      "196/196 [==============================] - 4s 20ms/step - loss: 0.6746 - false_positives_5: 617786.0000 - precision_5: 0.0635 - val_loss: 0.6214 - val_false_positives_5: 172486.0000 - val_precision_5: 0.0966\n",
      "Epoch 41/50\n",
      "196/196 [==============================] - 4s 19ms/step - loss: 0.6706 - false_positives_5: 602566.0000 - precision_5: 0.0634 - val_loss: 0.6166 - val_false_positives_5: 208395.0000 - val_precision_5: 0.0859\n",
      "Epoch 42/50\n",
      "196/196 [==============================] - 4s 19ms/step - loss: 0.6831 - false_positives_5: 631336.0000 - precision_5: 0.0641 - val_loss: 0.7055 - val_false_positives_5: 412861.0000 - val_precision_5: 0.0529\n",
      "Epoch 43/50\n",
      "196/196 [==============================] - 4s 19ms/step - loss: 0.6746 - false_positives_5: 615892.0000 - precision_5: 0.0633 - val_loss: 0.6411 - val_false_positives_5: 209358.0000 - val_precision_5: 0.0810\n",
      "Epoch 44/50\n",
      "196/196 [==============================] - 4s 19ms/step - loss: 0.6731 - false_positives_5: 610415.0000 - precision_5: 0.0615 - val_loss: 0.6272 - val_false_positives_5: 176102.0000 - val_precision_5: 0.0961\n",
      "Epoch 45/50\n",
      "196/196 [==============================] - 4s 19ms/step - loss: 0.6917 - false_positives_5: 617947.0000 - precision_5: 0.0577 - val_loss: 0.6657 - val_false_positives_5: 258624.0000 - val_precision_5: 0.0644\n",
      "Epoch 46/50\n",
      "196/196 [==============================] - 4s 19ms/step - loss: 0.6897 - false_positives_5: 629404.0000 - precision_5: 0.0581 - val_loss: 0.6551 - val_false_positives_5: 298260.0000 - val_precision_5: 0.0158\n",
      "Epoch 47/50\n",
      "196/196 [==============================] - 4s 19ms/step - loss: 0.6939 - false_positives_5: 586361.0000 - precision_5: 0.0569 - val_loss: 0.6725 - val_false_positives_5: 319596.0000 - val_precision_5: 0.0610\n",
      "Epoch 48/50\n",
      "196/196 [==============================] - 4s 19ms/step - loss: 0.6799 - false_positives_5: 623465.0000 - precision_5: 0.0580 - val_loss: 0.6545 - val_false_positives_5: 271530.0000 - val_precision_5: 0.0684\n",
      "Epoch 49/50\n",
      "196/196 [==============================] - 4s 19ms/step - loss: 0.6844 - false_positives_5: 608078.0000 - precision_5: 0.0568 - val_loss: 0.6513 - val_false_positives_5: 100101.0000 - val_precision_5: 0.0072\n",
      "Epoch 50/50\n",
      "196/196 [==============================] - 4s 19ms/step - loss: 0.6870 - false_positives_5: 627766.0000 - precision_5: 0.0598 - val_loss: 0.6044 - val_false_positives_5: 161837.0000 - val_precision_5: 0.1039\n"
     ]
    }
   ],
   "source": [
    "weighted_model = make_model()\n",
    "weighted_model.load_weights(initial_weights)\n",
    "EPOCHS = 50\n",
    "weighted_history = weighted_model.fit(\n",
    "    train_features,\n",
    "    train_labels,\n",
    "    batch_size=BATCH_SIZE,\n",
    "    epochs=EPOCHS,\n",
    "    validation_data=(val_features, val_labels),\n",
    "    # The class weights go here\n",
    "    class_weight=class_weight,\n",
    "    verbose=1)"
   ]
  },
  {
   "cell_type": "code",
   "execution_count": 27,
   "metadata": {},
   "outputs": [
    {
     "name": "stderr",
     "output_type": "stream",
     "text": [
      "2023-10-26 17:29:17.918132: I tensorflow/core/grappler/optimizers/custom_graph_optimizer_registry.cc:114] Plugin optimizer for device_type GPU is enabled.\n"
     ]
    },
    {
     "name": "stdout",
     "output_type": "stream",
     "text": [
      "196/196 [==============================] - 1s 5ms/step\n",
      "62/62 [==============================] - 0s 7ms/step\n"
     ]
    }
   ],
   "source": [
    "train_predictions_weighted = weighted_model.predict(train_features, batch_size=BATCH_SIZE)\n",
    "test_predictions_weighted = weighted_model.predict(test_features, batch_size=BATCH_SIZE)"
   ]
  },
  {
   "cell_type": "code",
   "execution_count": 28,
   "metadata": {},
   "outputs": [
    {
     "name": "stdout",
     "output_type": "stream",
     "text": [
      "62/62 [==============================] - 2s 26ms/step - loss: 0.6047 - false_positives_5: 203835.0000 - precision_5: 0.1039\n",
      "loss :  0.6046557426452637\n",
      "false_positives_5 :  203835.0\n",
      "precision_5 :  0.10394714027643204\n",
      "\n",
      "Legitimate Transactions Detected (True Negatives):  759854\n",
      "Legitimate Transactions Incorrectly Detected (False Positives):  203835\n",
      "Fraudulent Transactions Missed (False Negatives):  12665\n",
      "Fraudulent Transactions Detected (True Positives):  23646\n",
      "Total Fraudulent Transactions:  36311\n"
     ]
    },
    {
     "data": {
      "image/png": "[encoded data removed]",
      "text/plain": [
       "<Figure size 500x500 with 2 Axes>"
      ]
     },
     "metadata": {},
     "output_type": "display_data"
    }
   ],
   "source": [
    "weighted_results = weighted_model.evaluate(test_features, test_labels,\n",
    "                                           batch_size=BATCH_SIZE, verbose=1)\n",
    "for name, value in zip(weighted_model.metrics_names, weighted_results):\n",
    "  print(name, ': ', value)\n",
    "print()\n",
    "\n",
    "plot_cm(test_labels, test_predictions_weighted,threshold=0.5)"
   ]
  }
 ],
 "metadata": {
  "kernelspec": {
   "display_name": "tf_mac",
   "language": "python",
   "name": "tf_mac"
  },
  "language_info": {
   "codemirror_mode": {
    "name": "ipython",
    "version": 3
   },
   "file_extension": ".py",
   "mimetype": "text/x-python",
   "name": "python",
   "nbconvert_exporter": "python",
   "pygments_lexer": "ipython3",
   "version": "3.10.13"
  },
  "orig_nbformat": 4
 },
 "nbformat": 4,
 "nbformat_minor": 2
}
