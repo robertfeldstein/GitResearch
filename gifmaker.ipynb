{
 "cells": [
  {
   "cell_type": "markdown",
   "metadata": {},
   "source": [
    "### Lightning strike map overtime during a storm, useful to feature engineering"
   ]
  },
  {
   "cell_type": "markdown",
   "metadata": {},
   "source": [
    "* plot_abiglm() function \n",
    "* visualize_GOES16_from_AWS\n",
    "* feature engineering from gifs\n",
    "* fine tuning models\n",
    "* poster/presentation with atmospheric sciences afterwards \n",
    "* CURB poster presentation could be cool for Spring "
   ]
  },
  {
   "cell_type": "code",
   "execution_count": 1,
   "metadata": {},
   "outputs": [],
   "source": [
    "from goesaws import *\n",
    "import datetime\n",
    "import pandas as pd\n",
    "import sys\n",
    "\n",
    "date = str(datetime.date.today())\n",
    "\n",
    "bucket_name = 'noaa-goes16'\n",
    "product_name = 'ABI-L2-MCMIPM'\n",
    "lightning_mapper = 'GLM-L2-LCFA'\n",
    "yr = 2023\n",
    "day_of_year =205\n",
    "hr = 17\n",
    "minutes = 60\n",
    "#Generate the ABI Datafile \n",
    "\n",
    "\n",
    "hours = [16,17,18,19]\n",
    "\n",
    "abi = []\n",
    "glm = [] \n",
    "\n",
    "for h in hours:\n",
    "\n",
    "    abiprefix = gen_prefix(product=product_name,year = yr, day=day_of_year, hour = h)\n",
    "    abifiles = gen_fn(bucket=bucket_name,prefix=abiprefix)\n",
    "    abidatasets = [gen_data(key=abifiles[i], bucket = bucket_name) for i in range(0,minutes)]\n",
    "    abi.append(abidatasets)\n",
    "    #abiDS = xr.concat(abidatasets,dim = 't')\n",
    "\n",
    "    glmprefix = gen_prefix(product = \"GLM-L2-LCFA\", year = yr, day = day_of_year, hour = h)\n",
    "    glmfiles = gen_fn(bucket = bucket_name, prefix=glmprefix)\n",
    "    #There should be 180 GLM files per hour (one every 20 seconds)\n",
    "    glmdatasets = [gen_data(key=glmfiles[i], bucket = bucket_name) for i in range(0,minutes*3)]\n",
    "    glm.append(glmdatasets)\n",
    "\n",
    "nabi = []\n",
    "for arr in abi:\n",
    "    for ele in arr:\n",
    "        nabi.append(ele)\n",
    "\n",
    "\n",
    "nglm = []\n",
    "for arr in glm:\n",
    "    for ele in arr:\n",
    "        nglm.append(ele)\n",
    "        \n",
    "\n",
    "\n"
   ]
  },
  {
   "cell_type": "code",
   "execution_count": 3,
   "metadata": {},
   "outputs": [],
   "source": [
    "from goesaws import *\n",
    "import gif\n",
    "\n",
    "nfiles = [xr.merge([nabi[i],nglm[i]]) for i in range(len(nabi))]\n",
    "\n",
    "frames = []\n",
    "for nfile in nfiles:\n",
    "    frames.append(plot_abiglm(nfile))\n",
    "\n",
    "gif.save(frames,'GifStorage/testweather.gif',duration=100)"
   ]
  }
 ],
 "metadata": {
  "kernelspec": {
   "display_name": "GOES",
   "language": "python",
   "name": "goes"
  },
  "language_info": {
   "codemirror_mode": {
    "name": "ipython",
    "version": 3
   },
   "file_extension": ".py",
   "mimetype": "text/x-python",
   "name": "python",
   "nbconvert_exporter": "python",
   "pygments_lexer": "ipython3",
   "version": "3.11.4"
  },
  "orig_nbformat": 4
 },
 "nbformat": 4,
 "nbformat_minor": 2
}
